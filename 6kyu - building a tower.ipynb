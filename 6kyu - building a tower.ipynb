{
 "cells": [
  {
   "cell_type": "markdown",
   "metadata": {},
   "source": [
    "### Build Tower\n",
    "\n",
    "Build Tower by the following given argument:\n",
    "number of floors (integer and always greater than 0).\n",
    "\n",
    "Tower block is represented as *\n",
    "\n",
    "Python: return a list;\n",
    "JavaScript: returns an Array;\n",
    "C#: returns a string[];\n",
    "PHP: returns an array;\n",
    "C++: returns a vector<string>;\n",
    "Haskell: returns a [String];\n",
    "Ruby: returns an Array;\n",
    "Lua: returns a Table;\n",
    "Have fun!"
   ]
  },
  {
   "cell_type": "code",
   "execution_count": 2,
   "metadata": {},
   "outputs": [],
   "source": [
    "#for example, a tower of 3 floors looks like below\n",
    "\n",
    "[\n",
    "  '  *  ', \n",
    "  ' *** ', \n",
    "  '*****'\n",
    "]\n",
    "# and a tower of 6 floors looks like below\n",
    "\n",
    "[\n",
    "  '     *     ', \n",
    "  '    ***    ', \n",
    "  '   *****   ', \n",
    "  '  *******  ', \n",
    "  ' ********* ', \n",
    "  '***********'\n",
    "];"
   ]
  },
  {
   "cell_type": "code",
   "execution_count": 3,
   "metadata": {},
   "outputs": [],
   "source": [
    "def tower_builder(n_floors):\n",
    "    lst = []\n",
    "    x = (n_floors * 2)\n",
    "\n",
    "    for i in range(1, x, 2):\n",
    "        j = '*' * i\n",
    "        pad = \" \" * int(((x-1) - len(j))/2)\n",
    "        lst.append(pad+j+pad)\n",
    "    return lst"
   ]
  },
  {
   "cell_type": "code",
   "execution_count": null,
   "metadata": {},
   "outputs": [],
   "source": []
  }
 ],
 "metadata": {
  "kernelspec": {
   "display_name": "Python 3",
   "language": "python",
   "name": "python3"
  },
  "language_info": {
   "codemirror_mode": {
    "name": "ipython",
    "version": 3
   },
   "file_extension": ".py",
   "mimetype": "text/x-python",
   "name": "python",
   "nbconvert_exporter": "python",
   "pygments_lexer": "ipython3",
   "version": "3.7.6"
  }
 },
 "nbformat": 4,
 "nbformat_minor": 4
}
