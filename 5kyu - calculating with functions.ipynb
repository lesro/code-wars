{
 "cells": [
  {
   "cell_type": "markdown",
   "metadata": {},
   "source": [
    "***This time we want to write calculations using functions and get the results. Let's have a look at some examples:***\n",
    "\n",
    "seven(times(five())) \n",
    "#must return 35\n",
    "\n",
    "four(plus(nine())) \n",
    "#must return 13\n",
    "\n",
    "eight(minus(three())) \n",
    "#must return 5\n",
    "\n",
    "six(divided_by(two())) \n",
    "#must return 3"
   ]
  },
  {
   "cell_type": "markdown",
   "metadata": {},
   "source": [
    "***Requirements:***\n",
    "\n",
    "There must be a function for each number from 0 (\"zero\") to 9 (\"nine\")\n",
    "There must be a function for each of the following mathematical operations: plus, minus, times, dividedBy (divided_by in Ruby and Python)\n",
    "Each calculation consist of exactly one operation and two numbers\n",
    "The most outer function represents the left operand, the most inner function represents the right operand\n",
    "Divison should be integer division. For example, this should return 2, not 2.666666...:\n",
    "eight(divided_by(three()))"
   ]
  },
  {
   "cell_type": "markdown",
   "metadata": {},
   "source": [
    "FUNDAMENTALSFUNCTIONSCONTROL FLOWBASIC LANGUAGE FEATURESFUNCTIONAL PROGRAMMINGDECLARATIVE PROGRAMMING"
   ]
  },
  {
   "cell_type": "code",
   "execution_count": null,
   "metadata": {},
   "outputs": [],
   "source": [
    "def zero(f=None): #your code here \n",
    "    if f is None:\n",
    "        return 0\n",
    "    else:\n",
    "        return f(0)\n",
    "    \n",
    "def one(f=None): #your code here\n",
    "    if f is None:\n",
    "        return 1\n",
    "    else:\n",
    "        return f(1)\n",
    "    \n",
    "def two(f=None): #your code here\n",
    "    if f is None:\n",
    "        return 2\n",
    "    else:\n",
    "        return f(2)\n",
    "    \n",
    "def three(f=None): #your code here\n",
    "    if f is None:\n",
    "        return 3\n",
    "    else:\n",
    "        return f(3)\n",
    "def four(f = None): #your code here\n",
    "    if f is None:\n",
    "        return 4\n",
    "    else:\n",
    "        return f(4)\n",
    "    \n",
    "def five(f = None): #your code here\n",
    "    if f is None:\n",
    "        return 5\n",
    "    else:\n",
    "        return f(5)\n",
    "def six(f=None): #your code here\n",
    "    if f is None:\n",
    "        return 6\n",
    "    else:\n",
    "        return f(6)\n",
    "def seven(f=None): #your code here\n",
    "    if f is None:\n",
    "        return 7\n",
    "    else:\n",
    "        return f(7)\n",
    "def eight(f=None): #your code here\n",
    "    if f is None:\n",
    "        return 8\n",
    "    else:\n",
    "        return f(8)\n",
    "def nine(f=None): #your code here\n",
    "    if f is None:\n",
    "        return 9\n",
    "    else:\n",
    "        return f(9)\n",
    "\n",
    "\n",
    "def plus(num): #your code here\n",
    "    return lambda x: x + num\n",
    "    \n",
    "def minus(num): #your code here\n",
    "    return lambda x: x - num\n",
    "def times(num): #your code here\n",
    "    return lambda x: x * num\n",
    "def divided_by(num): #your code here\n",
    "    return lambda x: x // num\n"
   ]
  }
 ],
 "metadata": {
  "kernelspec": {
   "display_name": "Python 3",
   "language": "python",
   "name": "python3"
  },
  "language_info": {
   "codemirror_mode": {
    "name": "ipython",
    "version": 3
   },
   "file_extension": ".py",
   "mimetype": "text/x-python",
   "name": "python",
   "nbconvert_exporter": "python",
   "pygments_lexer": "ipython3",
   "version": "3.7.6"
  }
 },
 "nbformat": 4,
 "nbformat_minor": 4
}
