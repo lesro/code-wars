{
 "cells": [
  {
   "cell_type": "markdown",
   "metadata": {},
   "source": [
    "A child is playing with a ball on the nth floor of a tall building. The height of this floor, h, is known.\n",
    "\n",
    "He drops the ball out of the window. The ball bounces (for example), to two-thirds of its height (a bounce of 0.66).\n",
    "\n",
    "His mother looks out of a window 1.5 meters from the ground.\n",
    "\n",
    "How many times will the mother see the ball pass in front of her window (including when it's falling and bouncing?\n",
    "\n",
    "### Three conditions must be met for a valid experiment:\n",
    "\n",
    "Float parameter \"h\" in meters must be greater than 0\n",
    "Float parameter \"bounce\" must be greater than 0 and less than 1\n",
    "Float parameter \"window\" must be less than h.\n",
    "If all three conditions above are fulfilled, return a positive integer, otherwise return -1.\n",
    "\n",
    "***Note:***\n",
    "\n",
    "The ball can only be seen if the height of the rebounding ball is strictly greater than the window parameter.\n",
    "\n",
    "***Example:***\n",
    "\n",
    "- h = 3, bounce = 0.66, window = 1.5, result is 3\n",
    "\n",
    "- h = 3, bounce = 1, window = 1.5, result is -1 \n",
    "\n",
    "(Condition 2) not fulfilled)."
   ]
  },
  {
   "cell_type": "code",
   "execution_count": null,
   "metadata": {},
   "outputs": [],
   "source": [
    "def bouncingBall(h, bounce, window):\n",
    "    # your code\n",
    "    count = 0\n",
    "    result = h\n",
    "    if h > 0 and bounce > 0 and bounce < 1 and window < h:\n",
    "        count = 1\n",
    "        while result > window:\n",
    "            print(h,bounce,window)\n",
    "            result *= bounce\n",
    "            count += 2\n",
    "        return count-2\n",
    "    else:\n",
    "        return -1"
   ]
  }
 ],
 "metadata": {
  "kernelspec": {
   "display_name": "Python 3",
   "language": "python",
   "name": "python3"
  },
  "language_info": {
   "codemirror_mode": {
    "name": "ipython",
    "version": 3
   },
   "file_extension": ".py",
   "mimetype": "text/x-python",
   "name": "python",
   "nbconvert_exporter": "python",
   "pygments_lexer": "ipython3",
   "version": "3.7.6"
  }
 },
 "nbformat": 4,
 "nbformat_minor": 4
}
